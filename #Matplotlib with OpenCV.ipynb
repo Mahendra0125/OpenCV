{
 "cells": [
  {
   "cell_type": "code",
   "execution_count": null,
   "metadata": {},
   "outputs": [],
   "source": [
    "#Matplotlib with OpenCV\n",
    "\n",
    "import matplotlib.pyplot as plt\n",
    "import cv2 \n",
    "import numpy as np\n",
    "\n",
    "img = cv2.imread(\"Tiger 1.jpg\", 1)\n",
    "img2 = cv2.imread(\"Tiger 2.jpg\", 1)\n",
    "img3 = cv2.imread(\"Tiger 3.jpg\", 1)\n",
    "img4 = cv2.imread(\"Tiger 4.jpg\", 1)\n",
    "img5 = cv2.imread(\"Tiger 5.jpg\", 1)\n",
    "img6 = cv2.imread(\"Tiger 6.jpg\", 1)\n",
    "\n",
    "img = cv2.cvtColor(img, cv2.COLOR_BGR2RGB)\n",
    "img2 = cv2.cvtColor(img2, cv2.COLOR_BGR2RGB)\n",
    "img3 = cv2.cvtColor(img3, cv2.COLOR_BGR2RGB)\n",
    "img4 = cv2.cvtColor(img4, cv2.COLOR_BGR2RGB)\n",
    "img5 = cv2.cvtColor(img5, cv2.COLOR_BGR2RGB)\n",
    "img6 = cv2.cvtColor(img6, cv2.COLOR_BGR2RGB)\n",
    "\n",
    "titles = ['Tiger 1.jpg', 'Tiger 2.jpg', 'Tiger 3.jpg', 'Tiger 4.jpg', 'Tiger 5.jpg', 'Tiger 6.jpg']\n",
    "images = [img, img2, img3, img4, img5, img6]\n",
    "\n",
    "for i in range(6):\n",
    "    plt.subplot(2, 3, i+1) \n",
    "    plt.imshow(images[i])\n",
    "    plt.title(titles[i])\n",
    "    plt.xticks([]), plt.yticks([])\n",
    "    plt.colorbar()\n",
    "    \n",
    "\n",
    "# cv2.imshow('image', img)\n",
    "\n",
    "# plt.imshow(img)\n",
    "\n",
    "plt.show()\n",
    "\n",
    "cv2.waitKey(0)\n",
    "cv2.destroyAllWindows()"
   ]
  }
 ],
 "metadata": {
  "language_info": {
   "name": "python"
  },
  "orig_nbformat": 4
 },
 "nbformat": 4,
 "nbformat_minor": 2
}
