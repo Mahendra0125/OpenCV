{
 "cells": [
  {
   "cell_type": "code",
   "execution_count": null,
   "metadata": {},
   "outputs": [],
   "source": [
    "#Object Detection and Object Tracking Using HSV Color Space for videos\n",
    "\n",
    "import cv2\n",
    "import numpy as np\n",
    "\n",
    "def nothing(x):\n",
    "    pass\n",
    "\n",
    "cap = cv2.VideoCapture(0);\n",
    "\n",
    "cv2.namedWindow('Tracking')\n",
    "cv2.createTrackbar('LH', 'Tracking', 0, 255, nothing)\n",
    "cv2.createTrackbar('LS', 'Tracking', 0, 255, nothing)\n",
    "cv2.createTrackbar('LV', 'Tracking', 0, 255, nothing)\n",
    "cv2.createTrackbar('UH', 'Tracking', 255, 255, nothing)\n",
    "cv2.createTrackbar('US', 'Tracking', 255, 255, nothing)\n",
    "cv2.createTrackbar('UV', 'Tracking', 255, 255, nothing)\n",
    "\n",
    "while True:\n",
    "    #frame = cv2.imread('Smarties.jpg')\n",
    "    _, frame = cap.read()\n",
    "\n",
    "    hsv = cv2.cvtColor(frame, cv2.COLOR_RGB2HSV)\n",
    "\n",
    "    lower_h = cv2.getTrackbarPos('LH', 'Tracking')\n",
    "    lower_s = cv2.getTrackbarPos('LS', 'Tracking')\n",
    "    lower_v = cv2.getTrackbarPos('LV', 'Tracking')\n",
    "\n",
    "    upper_h = cv2.getTrackbarPos('UH', 'Tracking')\n",
    "    upper_s = cv2.getTrackbarPos('US', 'Tracking')\n",
    "    upper_v = cv2.getTrackbarPos('UV', 'Tracking')\n",
    "\n",
    "    lower_b = np.array([lower_h, lower_s, lower_v])\n",
    "    upper_b = np.array([upper_h, upper_s, upper_v])\n",
    "\n",
    "    mask = cv2.inRange(hsv, lower_b, upper_b)\n",
    "\n",
    "    res = cv2.bitwise_and(frame, frame, mask=mask)\n",
    "\n",
    "    cv2.imshow('frame', frame)\n",
    "    cv2.imshow('mask', mask)\n",
    "    cv2.imshow('res', res)\n",
    "\n",
    "    key = cv2.waitKey(1)\n",
    "    if key == 27:\n",
    "        break\n",
    "\n",
    "cap.release()\n",
    "cv2.destroyAllWindows()"
   ]
  }
 ],
 "metadata": {
  "language_info": {
   "name": "python"
  },
  "orig_nbformat": 4
 },
 "nbformat": 4,
 "nbformat_minor": 2
}
