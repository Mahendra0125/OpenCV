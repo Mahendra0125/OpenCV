{
 "cells": [
  {
   "cell_type": "code",
   "execution_count": null,
   "metadata": {},
   "outputs": [],
   "source": [
    "#Show Date and Time on Videos and display of width and height\n",
    "\n",
    "import datetime\n",
    "\n",
    "cap = cv2.VideoCapture(0);\n",
    "print(cap.get(cv2.CAP_PROP_FRAME_HEIGHT))\n",
    "print(cap.get(cv2.CAP_PROP_FRAME_WIDTH))\n",
    "\n",
    "#3 - Width, 4 - Height - Aspect Ratio\n",
    "#Setting Width and Height\n",
    "cap.set(3, 640)\n",
    "cap.set(4, 480)\n",
    "\n",
    "print(cap.get(4))\n",
    "print(cap.get(3))\n",
    "\n",
    "while(True):\n",
    "    ret, frame = cap.read()\n",
    "    if ret == True:\n",
    "        #Converting the video from color to grayscale\n",
    "        font = cv2.FONT_HERSHEY_SIMPLEX\n",
    "        text = 'Width: '+ str((cap.get(3))) + 'Height: '+ str((cap.get(4)))\n",
    "        datet = str(datetime.datetime.now())\n",
    "        frame = cv2.putText(frame, datet, (10,50), font, 1, (0,255,0), 1, cv2.LINE_AA )\n",
    "        cv2.imshow('frame', frame)\n",
    "        if cv2.waitKey(1) == ord('q'):\n",
    "          break\n",
    "    else:\n",
    "        break\n",
    "\n",
    "cap.release()\n",
    "cv2.destroyAllWindows()"
   ]
  }
 ],
 "metadata": {
  "language_info": {
   "name": "python"
  },
  "orig_nbformat": 4
 },
 "nbformat": 4,
 "nbformat_minor": 2
}
