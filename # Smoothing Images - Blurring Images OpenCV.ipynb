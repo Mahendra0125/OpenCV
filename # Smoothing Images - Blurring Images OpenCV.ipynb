{
 "cells": [
  {
   "cell_type": "code",
   "execution_count": null,
   "metadata": {},
   "outputs": [],
   "source": [
    "# Smoothing Images | Blurring Images OpenCV\n",
    "\n",
    "# Homogeneous filter is the most simple filter, each output pixel is the mean of its kernal neighbours.\n",
    "\n",
    "\n",
    "import matplotlib.pyplot as plt\n",
    "import cv2 \n",
    "import numpy as np\n",
    "\n",
    "img = cv2.imread('Tiger 1.jpg')\n",
    "img = cv2.cvtColor(img, cv2.COLOR_BGR2RGB)\n",
    "\n",
    "\n",
    "# In image processing, a kernal, convolution matrix, or mask is a small matrix. \n",
    "# It is used for blurring, sharpening, embossing, edge detection and more. \n",
    "kernal1 = np.ones((6,6), np.float32)/25\n",
    "dst = cv2.filter2D(img, -1, kernal1)\n",
    "\n",
    "# Low pass filters - helps in removing noises, blurring the image.\n",
    "# High pass filters - helps in finding edges in the images.\n",
    "blur = cv2.blur(img, (5,5))\n",
    "\n",
    "# Gaussian filter - is nothing but using different weight kernal,in both x and y direction.\n",
    "# Gaussian - Pixels located on the sides have smaller weight as compared to the ones in the center.\n",
    "gblur = cv2.GaussianBlur(img, (5,5), 0)\n",
    "\n",
    "# Median filter - is something that replace each pixels value with the median of its neighbouring pixels.\n",
    "# Median filter method is great when dealing with 'Salt and Pepper noise'. Kernal size should be in odd numbers except 1.\n",
    "median = cv2.medianBlur(img, 5)\n",
    "\n",
    "# Sigma color(3rd argument in bilfilter) - is the filter sigma in the color space\n",
    "# Sigma space(4th argument) - is the filter sigma in the coordinate space\n",
    "bilateralfilter = cv2.bilateralFilter(img, 9, 75, 75)\n",
    "\n",
    "titles = ['image', '2d', 'blur', 'gblur', 'median', 'bilateralfilter']\n",
    "pic = [img, dst, blur, gblur, median, bilateralfilter]\n",
    "\n",
    "for i in range(6):\n",
    "    plt.subplot(3, 3, i+1) \n",
    "    plt.imshow(pic[i])\n",
    "    plt.title(titles[i])\n",
    "    plt.xticks([]), plt.yticks([])\n",
    "\n",
    "plt.show()"
   ]
  }
 ],
 "metadata": {
  "language_info": {
   "name": "python"
  },
  "orig_nbformat": 4
 },
 "nbformat": 4,
 "nbformat_minor": 2
}
