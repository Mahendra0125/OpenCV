{
 "cells": [
  {
   "cell_type": "code",
   "execution_count": null,
   "metadata": {},
   "outputs": [],
   "source": [
    "# How to Use Background Subtraction Methods in OpenCV\n",
    "# Background Subtraction Method = is common and widely used technique for generating the forground mask which is also known as the binary image,\n",
    "# contatining the pixels belonging to the moving object of a scene when these images are captured using a static camera.\n",
    "# It can be used to find the no of people entering or leaving the room.\n",
    "\n",
    "import numpy as np\n",
    "import cv2\n",
    "\n",
    "cap = cv2.VideoCapture(\"vtest.avi\")\n",
    "\n",
    "# kernal = cv2.getStructuringElement(cv2.MORPH_ELLIPSE, (3,3))\n",
    "\n",
    "# fgbg = cv2.bgsegm.createBackgroundSubtractorMOG()\n",
    "# fgbg = cv2.createBackgroundSubtractorMOG2(detectShadows = False)\n",
    "# fgbg = cv2.bgsegm.createBackgroundSubtractorGMG()\n",
    "fgbg = cv2.createBackgroundSubtractorKNN(detectShadows = False)\n",
    "\n",
    "while True:\n",
    "    ret, frame = cap.read()\n",
    "    if frame is None:\n",
    "        break\n",
    "\n",
    "    fgmask = fgbg.apply(frame)\n",
    "    # fgmask = cv2.morphologyEx(fgmask, cv2.MORPH_OPEN, kernal)\n",
    "\n",
    "    cv2.imshow(\"Frame\", frame)\n",
    "    cv2.imshow(\"fgmask Frame\", fgmask)\n",
    "\n",
    "    key = cv2.waitKey(50)\n",
    "    if key == 'q' or key == 27:\n",
    "        break\n",
    "\n",
    "cap.release()\n",
    "cv2.destroyAllWindows()"
   ]
  }
 ],
 "metadata": {
  "language_info": {
   "name": "python"
  },
  "orig_nbformat": 4
 },
 "nbformat": 4,
 "nbformat_minor": 2
}
