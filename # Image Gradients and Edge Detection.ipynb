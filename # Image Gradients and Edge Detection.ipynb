{
 "cells": [
  {
   "cell_type": "code",
   "execution_count": null,
   "metadata": {},
   "outputs": [],
   "source": [
    "# Image Gradients and Edge Detection\n",
    "\n",
    "# Image gradient - is a directional change in the intensity and color in an image.\n",
    "# Its one of the fundamental building blocks in image processing.We use it to find the edges in an image.\n",
    "\n",
    "import matplotlib.pyplot as plt\n",
    "import cv2 \n",
    "import numpy as np\n",
    "\n",
    "img = cv2.imread('sudoku.jpg', cv2.IMREAD_GRAYSCALE)\n",
    "img = cv2.cvtColor(img, cv2.COLOR_BGR2RGB)\n",
    "\n",
    "#Laplacian Method \n",
    "# #cv2.CV_64F - datatype - its a 64 bit float which deals with negative nos. induced in the pic when cvt from white to black\n",
    "lap = cv2.Laplacian(img, cv2.CV_64F, ksize = 1)\n",
    "lap = np.uint8(np.absolute(lap))\n",
    "\n",
    "# SobelX Method - If 1 is added in the 3rd argument that means we are using sobelx method.\n",
    "# 3rd argument is dx(order of the derivative x), 4th argument is dy(order of derivative y)\n",
    "sobelx = cv2.Sobel(img, cv2.CV_64F, 1, 0, ksize = 1)\n",
    "sobely = cv2.Sobel(img, cv2.CV_64F, 0, 1, ksize = 1)\n",
    "sobelx = np.uint8(np.absolute(sobelx))\n",
    "sobely = np.uint8(np.absolute(sobely))\n",
    "\n",
    "sobelcomb = cv2.bitwise_or(sobelx, sobely)\n",
    "\n",
    "titles = ['image', 'lap', 'sobelx', 'sobely', 'sobelcomb']\n",
    "pic = [img, lap, sobelx, sobely, sobelcomb]\n",
    "\n",
    "for i in range(5):\n",
    "    plt.subplot(2, 3, i+1) \n",
    "    plt.imshow(pic[i])\n",
    "    plt.title(titles[i])\n",
    "    plt.xticks([]), plt.yticks([])\n",
    "\n",
    "plt.show()"
   ]
  }
 ],
 "metadata": {
  "language_info": {
   "name": "python"
  },
  "orig_nbformat": 4
 },
 "nbformat": 4,
 "nbformat_minor": 2
}
