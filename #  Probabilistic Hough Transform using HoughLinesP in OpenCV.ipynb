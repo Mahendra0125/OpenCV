{
 "cells": [
  {
   "cell_type": "code",
   "execution_count": null,
   "metadata": {},
   "outputs": [],
   "source": [
    "#  Probabilistic Hough Transform using HoughLinesP in OpenCV\n",
    "\n",
    "import cv2\n",
    "import numpy as np\n",
    "\n",
    "img = cv2.imread(\"Road.jpg\")\n",
    "grey = cv2.cvtColor(img, cv2.COLOR_BGR2GRAY)\n",
    "edges = cv2.Canny(grey, 50, 150, apertureSize = 3)\n",
    "cv2.imshow('Edge', edges)\n",
    "\n",
    "# lines = cv2.HoughLinesP(image, rho, theta, threshold, minLineLength, maxLineGap), rho is usually 1, theta is usually np.pi/180\n",
    "lines = cv2.HoughLinesP(edges, 1, np.pi / 180, 100, minLineLength = 100, maxLineGap = 10)\n",
    "\n",
    "for line in lines:\n",
    "    x1, y1, x2, y2 = line[0]\n",
    "    cv2.line(img, (x1, y1), (x2, y2), (0, 255, 255), 2)\n",
    "\n",
    "cv2.imshow('Image', img)\n",
    "cv2.waitKey(0)\n",
    "cv2.destroyAllWindows() \n"
   ]
  }
 ],
 "metadata": {
  "language_info": {
   "name": "python"
  },
  "orig_nbformat": 4
 },
 "nbformat": 4,
 "nbformat_minor": 2
}
