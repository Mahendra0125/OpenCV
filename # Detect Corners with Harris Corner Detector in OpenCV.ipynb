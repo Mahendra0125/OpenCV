{
 "cells": [
  {
   "cell_type": "code",
   "execution_count": null,
   "metadata": {},
   "outputs": [],
   "source": [
    "# Detect Corners with Harris Corner Detector in OpenCV\n",
    "\n",
    "import cv2\n",
    "import numpy as np\n",
    "\n",
    "img = cv2.imread(\"Chess.png\")\n",
    "img = cv2.resize(img, (650, 450))\n",
    "cv2.imshow(\"Image\", img)\n",
    "\n",
    "gra = cv2.cvtColor(img, cv2.COLOR_BGR2GRAY)\n",
    "\n",
    "gra = np.float32(gra)\n",
    "\n",
    "# dst = cv2.cornerHarris(img, blocksize, ksize, k)\n",
    "# img = should be grayscale and float32 type\n",
    "# blocksize = it is the size of the neighbourhood considered for corner detection\n",
    "# ksize = Aperture param of Sobel derivative, \n",
    "# k = harris detector free param in the equation)\n",
    "dst = cv2.cornerHarris(gra, 2, 5, 0.04)\n",
    "\n",
    "dst = cv2.dilate(dst, None)\n",
    "\n",
    "img[dst > 0.01 * dst.max()] = [0, 0, 255]\n",
    "\n",
    "cv2.imshow(\"DST\", img)\n",
    "\n",
    "cv2. waitKey(0)\n",
    "cv2.destroyAllWindows()"
   ]
  }
 ],
 "metadata": {
  "language_info": {
   "name": "python"
  },
  "orig_nbformat": 4
 },
 "nbformat": 4,
 "nbformat_minor": 2
}
