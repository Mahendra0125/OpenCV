{
 "cells": [
  {
   "cell_type": "code",
   "execution_count": null,
   "metadata": {},
   "outputs": [],
   "source": [
    "#Delete Unnessary Images\n",
    "\n",
    "import os\n",
    "import time\n",
    "\n",
    "path = \"C:\\\\Users\\\\MahendraVishnuPrabha\\\\Downloads\\\\POP4\"\n",
    "l = []\n",
    "x = os.listdir(path)\n",
    "x.sort()\n",
    "print(len(x))\n",
    "for i in range(len(x)):\n",
    "    todelete = path +\"\\\\\" +  x[i]\n",
    "    m = todelete.split()\n",
    "    print(m)\n",
    "    # a = re.search(\"24$\", todelete) \n",
    "    # b = re.search(\"49$\", todelete)\n",
    "    # c = re.search(\"74$\", todelete)\n",
    "    # d = re.search(\"99$\", todelete)\n",
    "    # print(a, b, c, d)\n",
    "    n = [m[-1]]\n",
    "    n = n[0]\n",
    "    n = n[:-4]\n",
    "    if((int(n) + 1) % 10 != 0):\n",
    "        print(\"deleted file: \", todelete)\n",
    "        #os.remove(todelete)"
   ]
  }
 ],
 "metadata": {
  "language_info": {
   "name": "python"
  },
  "orig_nbformat": 4
 },
 "nbformat": 4,
 "nbformat_minor": 2
}
