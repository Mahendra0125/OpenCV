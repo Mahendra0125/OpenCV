{
 "cells": [
  {
   "cell_type": "code",
   "execution_count": null,
   "metadata": {},
   "outputs": [],
   "source": [
    "# Road Lane Line Detection with OpenCV - Part 1 - For Image\n",
    "\n",
    "import matplotlib.pylab as plt\n",
    "import cv2\n",
    "import numpy as np\n",
    "\n",
    "image = cv2.imread('road.jpg')\n",
    "image = cv2.cvtColor(image, cv2.COLOR_BGR2RGB)\n",
    "\n",
    "print(image.shape)\n",
    "height = image.shape[0]\n",
    "width = image.shape[1]\n",
    "\n",
    "region_of_interest_vertices = [\n",
    "    (0, height),\n",
    "    (width/2, height/2),\n",
    "    (width, height)\n",
    "]\n",
    "\n",
    "def region_of_interest(img, vertices):\n",
    "    mask = np.zeros_like(img)\n",
    "    channel_count = img.shape[2]\n",
    "    match_mask_color = (255,) * channel_count\n",
    "    cv2.fillPoly(mask, vertices, match_mask_color)\n",
    "    masked_image = cv2.bitwise_and(img, mask)\n",
    "    return masked_image\n",
    "\n",
    "crop_image = region_of_interest(image, np.array([region_of_interest_vertices], np.int32))\n",
    "\n",
    "plt.imshow(crop_image)\n",
    "plt.show()"
   ]
  }
 ],
 "metadata": {
  "language_info": {
   "name": "python"
  },
  "orig_nbformat": 4
 },
 "nbformat": 4,
 "nbformat_minor": 2
}
