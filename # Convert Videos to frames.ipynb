{
 "cells": [
  {
   "cell_type": "code",
   "execution_count": null,
   "metadata": {},
   "outputs": [],
   "source": [
    "# Convert Videos to frames\n",
    "\n",
    "import cv2\n",
    "import time\n",
    "def FrameCapture(path):\n",
    "    vidObj = cv2.VideoCapture(path)\n",
    "    count = 0\n",
    "    success = 1\n",
    "    while success:\n",
    "        success, image = vidObj.read()\n",
    "        cv2.imwrite(\"C:\\\\Users\\\\PruthvirajTripuranen\\\\Downloads\\\\Output_Images\\\\frame%d.jpg\" % count, image)\n",
    "        count += 1\n",
    "\n",
    "if __name__ == '__main__':\n",
    "    FrameCapture(\"C:\\\\Users\\\\PruthvirajTripuranen\\\\Downloads\\\\Video_1.mp4\")"
   ]
  }
 ],
 "metadata": {
  "language_info": {
   "name": "python"
  },
  "orig_nbformat": 4
 },
 "nbformat": 4,
 "nbformat_minor": 2
}
