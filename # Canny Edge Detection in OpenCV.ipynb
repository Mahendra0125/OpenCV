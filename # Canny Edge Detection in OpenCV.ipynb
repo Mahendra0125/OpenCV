{
 "cells": [
  {
   "cell_type": "code",
   "execution_count": null,
   "metadata": {},
   "outputs": [],
   "source": [
    "# Canny Edge Detection in OpenCV\n",
    "\n",
    "# Is an edge detector operation that uses a multi-stage algorithm to detect a wide range of edges in images.\n",
    "# Its composed of 5 steps - noise reduction, gradient calc, non-max suppression, double threshold, edge tracking by hysteresis\n",
    "\n",
    "import matplotlib.pyplot as plt\n",
    "import cv2 \n",
    "import numpy as np\n",
    "\n",
    "img = cv2.imread('Messi.jpg', 0)\n",
    "img = cv2.cvtColor(img, cv2.COLOR_BGR2RGB)\n",
    "\n",
    "# lap = cv2.Laplacian(img, cv2.CV_64F, ksize = 1)\n",
    "# lap = np.uint8(np.absolute(lap))\n",
    "\n",
    "# sobelx = cv2.Sobel(img, cv2.CV_64F, 1, 0, ksize = 1)\n",
    "# sobely = cv2.Sobel(img, cv2.CV_64F, 0, 1, ksize = 1)\n",
    "# sobelx = np.uint8(np.absolute(sobelx))\n",
    "# sobely = np.uint8(np.absolute(sobely))\n",
    "\n",
    "# sobelcomb = cv2.bitwise_or(sobelx, sobely)\n",
    "canny = cv2.Canny(img, 150, 200)\n",
    "\n",
    "# titles = ['image', 'lap', 'sobelx', 'sobely', 'sobelcomb', 'canny']\n",
    "# pic = [img, lap, sobelx, sobely, sobelcomb, canny]\n",
    "\n",
    "titles = ['image', 'canny']\n",
    "pic = [img, canny]\n",
    "\n",
    "\n",
    "for i in range(2):\n",
    "    plt.subplot(1, 2, i+1) \n",
    "    plt.imshow(pic[i])\n",
    "    plt.title(titles[i])\n",
    "    plt.xticks([]), plt.yticks([])\n",
    "\n",
    "plt.show()"
   ]
  }
 ],
 "metadata": {
  "language_info": {
   "name": "python"
  },
  "orig_nbformat": 4
 },
 "nbformat": 4,
 "nbformat_minor": 2
}
