{
 "cells": [
  {
   "cell_type": "code",
   "execution_count": null,
   "metadata": {},
   "outputs": [],
   "source": [
    "# Morphological Transformations  \n",
    "# Are some simple operations based on the image shapes, they are perfomred on binary images\n",
    "# A Kernel tells you how to change the value of any given pixel by combining it with different amounts of neighbouring pixels\n",
    "# Opening MORPH- First erosion is performed on the image and then dilations is performed.\n",
    "# Closing MORPH - Is opposite to opening\n",
    "# MORPH_GRADIENT - Is the difference between teh dilationa and erosion of an image\n",
    "# MORPH_TOPHAT - IS the differnce between the image and the opening MORPH\n",
    "# Dilation - Increases teh area of the image\n",
    "# Erosion - Erodes the images\n",
    "\n",
    "import matplotlib.pyplot as plt\n",
    "import cv2 \n",
    "import numpy as np\n",
    "\n",
    "img = cv2.imread('Smarties.jpg', cv2.IMREAD_GRAYSCALE)\n",
    "_, m1 = cv2.threshold(img, 220, 255, cv2.THRESH_BINARY_INV)\n",
    "\n",
    "kernal = np.ones((3,3), np.uint8)\n",
    "\n",
    "dilation = cv2.dilate(m1, kernal, iterations=5)\n",
    "erosion = cv2.erode(m1, kernal, iterations=4)\n",
    "opening = cv2.morphologyEx(m1, cv2.MORPH_OPEN, kernal)\n",
    "closing = cv2.morphologyEx(m1, cv2.MORPH_CLOSE, kernal)\n",
    "mg = cv2.morphologyEx(m1, cv2.MORPH_GRADIENT, kernal)\n",
    "th = cv2.morphologyEx(m1, cv2.MORPH_TOPHAT, kernal)\n",
    "\n",
    "img = cv2.cvtColor(img, cv2.COLOR_BGR2RGB)\n",
    "\n",
    "titles = ['image', 'm1', 'dilation', 'erosion', 'opening', 'closing', 'mg', 'th']\n",
    "pic = [img, m1, dilation, erosion, opening, closing, mg, th]\n",
    "\n",
    "for i in range(8):\n",
    "    plt.subplot(4, 4, i+1) \n",
    "    plt.imshow(pic[i])\n",
    "    plt.title(titles[i])\n",
    "    plt.xticks([]), plt.yticks([])\n",
    "\n",
    "plt.show()"
   ]
  }
 ],
 "metadata": {
  "language_info": {
   "name": "python"
  },
  "orig_nbformat": 4
 },
 "nbformat": 4,
 "nbformat_minor": 2
}
