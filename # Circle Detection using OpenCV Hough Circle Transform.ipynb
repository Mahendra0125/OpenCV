{
 "cells": [
  {
   "cell_type": "code",
   "execution_count": 2,
   "metadata": {},
   "outputs": [],
   "source": [
    "# Circle Detection using OpenCV Hough Circle Transform\n",
    "\n",
    "import cv2\n",
    "import numpy as np\n",
    "\n",
    "img = cv2.imread(\"Smarties.png\")\n",
    "output = img.copy()\n",
    "gr = cv2.cvtColor(output, cv2.COLOR_BGR2GRAY)\n",
    "gr = cv2.medianBlur(gr, 5)\n",
    "\n",
    "# circles = cv2.HoughCircles(image, method = HOUGH_Gradient, dp, mindist[, circles[, param1[, param2[, minradius[, maxradius]]]]])\n",
    "# if dp = 1, then the accumulator has the same resol as that of the input image, \n",
    "# if dp = 2, then the accum has half the width and height of image. \n",
    "circles = cv2.HoughCircles(gr, \n",
    "                          cv2.HOUGH_GRADIENT, 1, 20, param1 = 50, param2 = 30, minRadius = 0, maxRadius = 0)\n",
    "\n",
    "\n",
    "detected_circles = np.uint16(np.around(circles))\n",
    "\n",
    "for(x, y, r) in detected_circles[0, :]:\n",
    "    cv2.circle(output, (x, y), r, (255, 0, 0), 3)\n",
    "    cv2.circle(output, (x, y), 2, (255, 0, 255), 3)\n",
    "\n",
    "\n",
    "cv2.imshow(\"Output\", output)\n",
    "cv2.waitKey(0)\n",
    "cv2.destroyAllWindows()"
   ]
  },
  {
   "cell_type": "code",
   "execution_count": null,
   "metadata": {},
   "outputs": [],
   "source": []
  }
 ],
 "metadata": {
  "kernelspec": {
   "display_name": "my_python",
   "language": "python",
   "name": "python3"
  },
  "language_info": {
   "codemirror_mode": {
    "name": "ipython",
    "version": 3
   },
   "file_extension": ".py",
   "mimetype": "text/x-python",
   "name": "python",
   "nbconvert_exporter": "python",
   "pygments_lexer": "ipython3",
   "version": "3.7.16"
  },
  "orig_nbformat": 4
 },
 "nbformat": 4,
 "nbformat_minor": 2
}
