{
 "cells": [
  {
   "cell_type": "code",
   "execution_count": null,
   "metadata": {},
   "outputs": [],
   "source": [
    "#Download Videos from Youtube\n",
    "\n",
    "from  os import system\n",
    "from pytube import YouTube\n",
    "system(\"cls\")\n",
    "x = 1\n",
    "while(x):\n",
    "    link = input(\"enter the link \")\n",
    "    ytobj = YouTube(link)\n",
    "    print(ytobj.title)\n",
    "    streams = ytobj.streams\n",
    "    audiostreams = streams.filter(only_audio=True)\n",
    "    progressive = streams.filter(progressive=True)\n",
    "    videostreams = streams.filter(only_video= True)\n",
    "    y = input(\"press a for audio streams, p form progressive streams and  v for video streams \\n\")\n",
    "    if(y == \"a\"):\n",
    "        for i in audiostreams:\n",
    "            print(i)\n",
    "    elif (y == \"p\"):\n",
    "        for i in progressive:\n",
    "            print(i)\n",
    "    else:\n",
    "        for i in videostreams:\n",
    "            print(i)\n",
    "    itag = int(input(\"enter the itag value of the stream from the values listed below \"))\n",
    "    todownload = ytobj.streams.get_by_itag(itag)\n",
    "    todownload.download()\n",
    "    x = int(input(\"press 1 to contiue and 0 to exit \\n\"))"
   ]
  }
 ],
 "metadata": {
  "language_info": {
   "name": "python"
  },
  "orig_nbformat": 4
 },
 "nbformat": 4,
 "nbformat_minor": 2
}
