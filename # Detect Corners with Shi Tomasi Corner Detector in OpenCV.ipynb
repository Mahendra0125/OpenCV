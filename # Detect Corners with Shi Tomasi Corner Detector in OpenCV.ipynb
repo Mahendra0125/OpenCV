{
 "cells": [
  {
   "cell_type": "code",
   "execution_count": null,
   "metadata": {},
   "outputs": [],
   "source": [
    "# Detect Corners with Shi Tomasi Corner Detector in OpenCV\n",
    "\n",
    "import cv2\n",
    "import numpy as np\n",
    "\n",
    "img = cv2.imread(\"Shapes.png\")\n",
    "img = cv2.resize(img, (650, 450))\n",
    "cv2.imshow(\"Image\", img)\n",
    "\n",
    "gray1 = cv2.cvtColor(img, cv2.COLOR_BGR2GRAY)\n",
    "\n",
    "# corners = cv2.goodFeaturesToTrack(img, maximum no of corners, quality level, mindist)\n",
    "# quality level = is the param used to find minimal expected quality if the img corner\n",
    "#  mindist = it is the min possible euclaidian dist. bet. the returned corners\n",
    "corners = cv2.goodFeaturesToTrack(gray1, 100, 0.01, 10)\n",
    "\n",
    "corners = np.uint0(corners)\n",
    "\n",
    "for i in corners:\n",
    "    x, y = i.ravel()\n",
    "    cv2.circle(img, (x, y), 5, 255, -1)\n",
    "\n",
    "cv2.imshow(\"DST\", img)\n",
    "\n",
    "cv2. waitKey(0)\n",
    "cv2.destroyAllWindows()"
   ]
  }
 ],
 "metadata": {
  "language_info": {
   "name": "python"
  },
  "orig_nbformat": 4
 },
 "nbformat": 4,
 "nbformat_minor": 2
}
