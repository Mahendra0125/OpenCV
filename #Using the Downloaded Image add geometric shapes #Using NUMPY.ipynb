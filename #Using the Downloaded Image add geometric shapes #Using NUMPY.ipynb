{
 "cells": [
  {
   "cell_type": "code",
   "execution_count": 1,
   "metadata": {},
   "outputs": [],
   "source": [
    "#Using the Downloaded Image add geometric shapes #Using NUMPY\n",
    "\n",
    "import cv2\n",
    "import numpy as np\n",
    "import matplotlib.pyplot as plt\n",
    "\n",
    "#img = cv2.imread('Tiger 1.jpg', 1)\n",
    "\n",
    "img = np.zeros([520,520,3], np.uint8)\n",
    "img = cv2.line(img, (0,0), (255,255), (0,0,255), 3)\n",
    "img = cv2.arrowedLine(img, (0,255), (255,255), (0,0,255), 3)\n",
    "img = cv2.rectangle(img, (270,250), (420,340), (0,255,255), 4)\n",
    "img = cv2.circle(img, (230,250), 75, (0,255,0), 3)\n",
    "\n",
    "font = cv2.FONT_HERSHEY_SCRIPT_COMPLEX\n",
    "img = cv2.putText(img, 'OpenCV', (0, 500), font, 3, (147,43,230), 4, cv2.LINE_AA)\n",
    "cv2.imshow('Image', img)\n",
    "m = cv2.waitKey(0)\n",
    "\n",
    "if m == 27:\n",
    "    cv2.destroyAllWindows()\n",
    "elif m == ord('s'):\n",
    "    cv2.imwrite('Tiger_copy.png', img)\n",
    "    cv2.destroyAllWindows()"
   ]
  },
  {
   "cell_type": "code",
   "execution_count": null,
   "metadata": {},
   "outputs": [],
   "source": []
  }
 ],
 "metadata": {
  "kernelspec": {
   "display_name": "my_python",
   "language": "python",
   "name": "python3"
  },
  "language_info": {
   "codemirror_mode": {
    "name": "ipython",
    "version": 3
   },
   "file_extension": ".py",
   "mimetype": "text/x-python",
   "name": "python",
   "nbconvert_exporter": "python",
   "pygments_lexer": "ipython3",
   "version": "3.7.16"
  },
  "orig_nbformat": 4
 },
 "nbformat": 4,
 "nbformat_minor": 2
}
