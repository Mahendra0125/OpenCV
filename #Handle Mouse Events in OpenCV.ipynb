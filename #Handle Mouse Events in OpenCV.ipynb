{
 "cells": [
  {
   "cell_type": "code",
   "execution_count": null,
   "metadata": {},
   "outputs": [],
   "source": [
    "#Handle Mouse Events in OpenCV\n",
    "\n",
    "import numpy as np\n",
    "import cv2\n",
    "import matplotlib.pyplot as plt\n",
    "\n",
    "#events = [i for i in dir(cv2) if 'EVENT' in i]\n",
    "#print(events)\n",
    "\n",
    "def click_event(event, x, y, flags, param):\n",
    "    if event == cv2.EVENT_LBUTTONDOWN:\n",
    "        print(x,', ',y)\n",
    "        font = cv2.FONT_HERSHEY_SIMPLEX\n",
    "        strXY = str(x) + ', ' + str(y)\n",
    "        cv2.putText(img, strXY, (x,y), font, 1, (143,22,33), 2)\n",
    "        cv2.imshow('image',img)\n",
    "    if event == cv2.EVENT_RBUTTONDOWN:\n",
    "        blue = img[y, x, 0]\n",
    "        green = img[y, x, 1]\n",
    "        red = img[y, x, 2]\n",
    "        font = cv2.FONT_HERSHEY_SIMPLEX\n",
    "        strBGR = str(blue) + ', ' + str(green) + ', ' + str(red)\n",
    "        cv2.putText(img, strBGR, (x,y), font, 1, (0,222,111), 2)\n",
    "        cv2.imshow('image', img)\n",
    "\n",
    "img = cv2.imread('Tiger 3.jpg', 1)\n",
    "cv2.imshow('image', img)\n",
    "\n",
    "cv2.setMouseCallback('image', click_event)\n",
    "\n",
    "cv2.waitKey(0)\n",
    "cv2.destroyAllWindows()"
   ]
  }
 ],
 "metadata": {
  "language_info": {
   "name": "python"
  },
  "orig_nbformat": 4
 },
 "nbformat": 4,
 "nbformat_minor": 2
}
